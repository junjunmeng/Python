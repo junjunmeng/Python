{
  "nbformat": 4,
  "nbformat_minor": 0,
  "metadata": {
    "colab": {
      "name": "Funnel Analysis.ipynb",
      "provenance": [],
      "collapsed_sections": [],
      "mount_file_id": "1lo7MrPSS4em90OOHduIZLIlu9RI4MAg9",
      "authorship_tag": "ABX9TyPPq/QouSykKvmV8OQ59MpM",
      "include_colab_link": true
    },
    "kernelspec": {
      "name": "python3",
      "display_name": "Python 3"
    }
  },
  "cells": [
    {
      "cell_type": "markdown",
      "metadata": {
        "id": "view-in-github",
        "colab_type": "text"
      },
      "source": [
        "<a href=\"https://colab.research.google.com/github/junjunmeng/Python-/blob/master/Funnel_Analysis.ipynb\" target=\"_parent\"><img src=\"https://colab.research.google.com/assets/colab-badge.svg\" alt=\"Open In Colab\"/></a>"
      ]
    },
    {
      "cell_type": "code",
      "metadata": {
        "id": "2Y7XmrycM9Mt",
        "colab_type": "code",
        "outputId": "18ac6fbe-d348-49c4-fcd6-c44eeb57e249",
        "colab": {
          "base_uri": "https://localhost:8080/",
          "height": 34
        }
      },
      "source": [
        "cd '/content/drive/My Drive/01-Funnel analysis'"
      ],
      "execution_count": 0,
      "outputs": [
        {
          "output_type": "stream",
          "text": [
            "/content/drive/My Drive/01-Funnel analysis\n"
          ],
          "name": "stdout"
        }
      ]
    },
    {
      "cell_type": "code",
      "metadata": {
        "id": "LRu1wMoQNF24",
        "colab_type": "code",
        "colab": {}
      },
      "source": [
        "import pandas as pd\n",
        "import numpy as np\n"
      ],
      "execution_count": 0,
      "outputs": []
    },
    {
      "cell_type": "code",
      "metadata": {
        "id": "N7Zncz2-NRFd",
        "colab_type": "code",
        "colab": {}
      },
      "source": [
        "home_page = pd.read_csv('home_page_table.csv')\n",
        "confirmation = pd.read_csv('payment_confirmation_table.csv')\n",
        "payment_page = pd.read_csv('payment_page_table.csv')\n",
        "search_page = pd.read_csv('search_page_table.csv')\n",
        "user = pd.read_csv('user_table.csv')"
      ],
      "execution_count": 0,
      "outputs": []
    },
    {
      "cell_type": "code",
      "metadata": {
        "id": "Pc3RSNMiNhIi",
        "colab_type": "code",
        "outputId": "472543c4-484d-4532-eecd-1d1064f9b8c4",
        "colab": {
          "base_uri": "https://localhost:8080/",
          "height": 204
        }
      },
      "source": [
        "user.head()"
      ],
      "execution_count": 0,
      "outputs": [
        {
          "output_type": "execute_result",
          "data": {
            "text/html": [
              "<div>\n",
              "<style scoped>\n",
              "    .dataframe tbody tr th:only-of-type {\n",
              "        vertical-align: middle;\n",
              "    }\n",
              "\n",
              "    .dataframe tbody tr th {\n",
              "        vertical-align: top;\n",
              "    }\n",
              "\n",
              "    .dataframe thead th {\n",
              "        text-align: right;\n",
              "    }\n",
              "</style>\n",
              "<table border=\"1\" class=\"dataframe\">\n",
              "  <thead>\n",
              "    <tr style=\"text-align: right;\">\n",
              "      <th></th>\n",
              "      <th>user_id</th>\n",
              "      <th>date</th>\n",
              "      <th>device</th>\n",
              "      <th>sex</th>\n",
              "    </tr>\n",
              "  </thead>\n",
              "  <tbody>\n",
              "    <tr>\n",
              "      <th>0</th>\n",
              "      <td>450007</td>\n",
              "      <td>2015-02-28</td>\n",
              "      <td>Desktop</td>\n",
              "      <td>Female</td>\n",
              "    </tr>\n",
              "    <tr>\n",
              "      <th>1</th>\n",
              "      <td>756838</td>\n",
              "      <td>2015-01-13</td>\n",
              "      <td>Desktop</td>\n",
              "      <td>Male</td>\n",
              "    </tr>\n",
              "    <tr>\n",
              "      <th>2</th>\n",
              "      <td>568983</td>\n",
              "      <td>2015-04-09</td>\n",
              "      <td>Desktop</td>\n",
              "      <td>Male</td>\n",
              "    </tr>\n",
              "    <tr>\n",
              "      <th>3</th>\n",
              "      <td>190794</td>\n",
              "      <td>2015-02-18</td>\n",
              "      <td>Desktop</td>\n",
              "      <td>Female</td>\n",
              "    </tr>\n",
              "    <tr>\n",
              "      <th>4</th>\n",
              "      <td>537909</td>\n",
              "      <td>2015-01-15</td>\n",
              "      <td>Desktop</td>\n",
              "      <td>Male</td>\n",
              "    </tr>\n",
              "  </tbody>\n",
              "</table>\n",
              "</div>"
            ],
            "text/plain": [
              "   user_id        date   device     sex\n",
              "0   450007  2015-02-28  Desktop  Female\n",
              "1   756838  2015-01-13  Desktop    Male\n",
              "2   568983  2015-04-09  Desktop    Male\n",
              "3   190794  2015-02-18  Desktop  Female\n",
              "4   537909  2015-01-15  Desktop    Male"
            ]
          },
          "metadata": {
            "tags": []
          },
          "execution_count": 63
        }
      ]
    },
    {
      "cell_type": "code",
      "metadata": {
        "id": "YpSCDKYzPJxs",
        "colab_type": "code",
        "colab": {}
      },
      "source": [
        "data = user.merge(home_page, how = 'left', on = 'user_id').merge(search_page, how = 'left', on = 'user_id').merge(payment_page, how = 'left', on = 'user_id').merge(confirmation, how = 'left', on = 'user_id')"
      ],
      "execution_count": 0,
      "outputs": []
    },
    {
      "cell_type": "code",
      "metadata": {
        "id": "yP0yzNbGPjc-",
        "colab_type": "code",
        "colab": {}
      },
      "source": [
        "data.columns=['user_id', 'date', 'device', 'sex', 'home','search','payment', 'confirmation']"
      ],
      "execution_count": 0,
      "outputs": []
    },
    {
      "cell_type": "markdown",
      "metadata": {
        "id": "a_7pLD3ygRw3",
        "colab_type": "text"
      },
      "source": [
        "#  <font color = 'blue'> 1. Calculate and visualize conversion rate "
      ]
    },
    {
      "cell_type": "code",
      "metadata": {
        "id": "00skQoeCeg7T",
        "colab_type": "code",
        "outputId": "9670a3cd-8204-433c-9067-4c87d74e0c01",
        "colab": {
          "base_uri": "https://localhost:8080/",
          "height": 173
        }
      },
      "source": [
        "conv_ratio = 1-pd.DataFrame(data.isnull().sum()).rename(columns = {0:\"conversion\"})/len(data)\n",
        "conv_ratio.reset_index()[4:]"
      ],
      "execution_count": 0,
      "outputs": [
        {
          "output_type": "execute_result",
          "data": {
            "text/html": [
              "<div>\n",
              "<style scoped>\n",
              "    .dataframe tbody tr th:only-of-type {\n",
              "        vertical-align: middle;\n",
              "    }\n",
              "\n",
              "    .dataframe tbody tr th {\n",
              "        vertical-align: top;\n",
              "    }\n",
              "\n",
              "    .dataframe thead th {\n",
              "        text-align: right;\n",
              "    }\n",
              "</style>\n",
              "<table border=\"1\" class=\"dataframe\">\n",
              "  <thead>\n",
              "    <tr style=\"text-align: right;\">\n",
              "      <th></th>\n",
              "      <th>index</th>\n",
              "      <th>conversion</th>\n",
              "    </tr>\n",
              "  </thead>\n",
              "  <tbody>\n",
              "    <tr>\n",
              "      <th>4</th>\n",
              "      <td>home</td>\n",
              "      <td>1.000000</td>\n",
              "    </tr>\n",
              "    <tr>\n",
              "      <th>5</th>\n",
              "      <td>search</td>\n",
              "      <td>0.500000</td>\n",
              "    </tr>\n",
              "    <tr>\n",
              "      <th>6</th>\n",
              "      <td>payment</td>\n",
              "      <td>0.066704</td>\n",
              "    </tr>\n",
              "    <tr>\n",
              "      <th>7</th>\n",
              "      <td>confirmation</td>\n",
              "      <td>0.005000</td>\n",
              "    </tr>\n",
              "  </tbody>\n",
              "</table>\n",
              "</div>"
            ],
            "text/plain": [
              "          index  conversion\n",
              "4          home    1.000000\n",
              "5        search    0.500000\n",
              "6       payment    0.066704\n",
              "7  confirmation    0.005000"
            ]
          },
          "metadata": {
            "tags": []
          },
          "execution_count": 66
        }
      ]
    },
    {
      "cell_type": "code",
      "metadata": {
        "id": "ifTCyyg9gaC3",
        "colab_type": "code",
        "outputId": "2495ae6c-3293-4a4d-dd1b-d47d1e30986b",
        "colab": {
          "base_uri": "https://localhost:8080/",
          "height": 51
        }
      },
      "source": [
        "data.home.value_counts()"
      ],
      "execution_count": 0,
      "outputs": [
        {
          "output_type": "execute_result",
          "data": {
            "text/plain": [
              "home_page    90400\n",
              "Name: home, dtype: int64"
            ]
          },
          "metadata": {
            "tags": []
          },
          "execution_count": 67
        }
      ]
    },
    {
      "cell_type": "code",
      "metadata": {
        "id": "LPlZGOTXfg-1",
        "colab_type": "code",
        "outputId": "f43981e1-27ae-4297-acec-82732b775b1a",
        "colab": {
          "base_uri": "https://localhost:8080/",
          "height": 204
        }
      },
      "source": [
        "data.head()"
      ],
      "execution_count": 0,
      "outputs": [
        {
          "output_type": "execute_result",
          "data": {
            "text/html": [
              "<div>\n",
              "<style scoped>\n",
              "    .dataframe tbody tr th:only-of-type {\n",
              "        vertical-align: middle;\n",
              "    }\n",
              "\n",
              "    .dataframe tbody tr th {\n",
              "        vertical-align: top;\n",
              "    }\n",
              "\n",
              "    .dataframe thead th {\n",
              "        text-align: right;\n",
              "    }\n",
              "</style>\n",
              "<table border=\"1\" class=\"dataframe\">\n",
              "  <thead>\n",
              "    <tr style=\"text-align: right;\">\n",
              "      <th></th>\n",
              "      <th>user_id</th>\n",
              "      <th>date</th>\n",
              "      <th>device</th>\n",
              "      <th>sex</th>\n",
              "      <th>home</th>\n",
              "      <th>search</th>\n",
              "      <th>payment</th>\n",
              "      <th>confirmation</th>\n",
              "    </tr>\n",
              "  </thead>\n",
              "  <tbody>\n",
              "    <tr>\n",
              "      <th>0</th>\n",
              "      <td>450007</td>\n",
              "      <td>2015-02-28</td>\n",
              "      <td>Desktop</td>\n",
              "      <td>Female</td>\n",
              "      <td>home_page</td>\n",
              "      <td>NaN</td>\n",
              "      <td>NaN</td>\n",
              "      <td>NaN</td>\n",
              "    </tr>\n",
              "    <tr>\n",
              "      <th>1</th>\n",
              "      <td>756838</td>\n",
              "      <td>2015-01-13</td>\n",
              "      <td>Desktop</td>\n",
              "      <td>Male</td>\n",
              "      <td>home_page</td>\n",
              "      <td>NaN</td>\n",
              "      <td>NaN</td>\n",
              "      <td>NaN</td>\n",
              "    </tr>\n",
              "    <tr>\n",
              "      <th>2</th>\n",
              "      <td>568983</td>\n",
              "      <td>2015-04-09</td>\n",
              "      <td>Desktop</td>\n",
              "      <td>Male</td>\n",
              "      <td>home_page</td>\n",
              "      <td>search_page</td>\n",
              "      <td>NaN</td>\n",
              "      <td>NaN</td>\n",
              "    </tr>\n",
              "    <tr>\n",
              "      <th>3</th>\n",
              "      <td>190794</td>\n",
              "      <td>2015-02-18</td>\n",
              "      <td>Desktop</td>\n",
              "      <td>Female</td>\n",
              "      <td>home_page</td>\n",
              "      <td>search_page</td>\n",
              "      <td>NaN</td>\n",
              "      <td>NaN</td>\n",
              "    </tr>\n",
              "    <tr>\n",
              "      <th>4</th>\n",
              "      <td>537909</td>\n",
              "      <td>2015-01-15</td>\n",
              "      <td>Desktop</td>\n",
              "      <td>Male</td>\n",
              "      <td>home_page</td>\n",
              "      <td>NaN</td>\n",
              "      <td>NaN</td>\n",
              "      <td>NaN</td>\n",
              "    </tr>\n",
              "  </tbody>\n",
              "</table>\n",
              "</div>"
            ],
            "text/plain": [
              "   user_id        date   device  ...       search payment confirmation\n",
              "0   450007  2015-02-28  Desktop  ...          NaN     NaN          NaN\n",
              "1   756838  2015-01-13  Desktop  ...          NaN     NaN          NaN\n",
              "2   568983  2015-04-09  Desktop  ...  search_page     NaN          NaN\n",
              "3   190794  2015-02-18  Desktop  ...  search_page     NaN          NaN\n",
              "4   537909  2015-01-15  Desktop  ...          NaN     NaN          NaN\n",
              "\n",
              "[5 rows x 8 columns]"
            ]
          },
          "metadata": {
            "tags": []
          },
          "execution_count": 68
        }
      ]
    },
    {
      "cell_type": "code",
      "metadata": {
        "id": "H1cnVaJPOXCo",
        "colab_type": "code",
        "colab": {}
      },
      "source": [
        "def conversion_rate(df):\n",
        "  rates = {}\n",
        "  rates['search'] = df['search'].count()/df['home'].count()\n",
        "  rates['payment'] = df['payment'].count()/df['search'].count()\n",
        "  rates['confirmation'] = df['confirmation'].count()/df['payment'].count()\n",
        "  return rates\n",
        "\n",
        "rate = conversion_rate(data)\n",
        "\n",
        "rate_report = pd.DataFrame.from_dict(rate, orient='index').reset_index()\n",
        "rate_report.columns=['page', 'conversion_rate']"
      ],
      "execution_count": 0,
      "outputs": []
    },
    {
      "cell_type": "code",
      "metadata": {
        "id": "gsKtQV3cg7v7",
        "colab_type": "code",
        "colab": {}
      },
      "source": [
        "import seaborn as sns\n",
        "import matplotlib.pyplot as plt"
      ],
      "execution_count": 0,
      "outputs": []
    },
    {
      "cell_type": "code",
      "metadata": {
        "id": "KOLnxRa4hnYB",
        "colab_type": "code",
        "outputId": "e26fe0e5-8324-41c4-9bbb-31029fcd6bee",
        "colab": {
          "base_uri": "https://localhost:8080/",
          "height": 335
        }
      },
      "source": [
        "fig, ax = plt.subplots(figsize = (8,5))\n",
        "g = sns.barplot(x= 'conversion_rate', y = 'page', data = rate_report, ax = ax)\n",
        "\n"
      ],
      "execution_count": 0,
      "outputs": [
        {
          "output_type": "display_data",
          "data": {
            "image/png": "[encoded data removed]",
            "text/plain": [
              "<Figure size 576x360 with 1 Axes>"
            ]
          },
          "metadata": {
            "tags": []
          }
        }
      ]
    },
    {
      "cell_type": "code",
      "metadata": {
        "id": "JfnE6FUeoi0q",
        "colab_type": "code",
        "colab": {}
      },
      "source": [
        " "
      ],
      "execution_count": 0,
      "outputs": []
    },
    {
      "cell_type": "markdown",
      "metadata": {
        "id": "AJTjaAnbxgDf",
        "colab_type": "text"
      },
      "source": [
        "# <font color = 'blue'> 2. Effect of device, sex and date"
      ]
    },
    {
      "cell_type": "markdown",
      "metadata": {
        "id": "DHEgdrxXgwmg",
        "colab_type": "text"
      },
      "source": [
        "### <font color ='blue'> 2.1 The effect of Device"
      ]
    },
    {
      "cell_type": "code",
      "metadata": {
        "id": "u801Iz8Kxpil",
        "colab_type": "code",
        "outputId": "63a97191-3a47-4f22-d2eb-4da48e868213",
        "colab": {
          "base_uri": "https://localhost:8080/",
          "height": 142
        }
      },
      "source": [
        "# the converison rate from Desktop\n",
        "\n",
        "Desktop = pd.DataFrame.from_dict(conversion_rate(data[data.device == 'Desktop']), orient='index').reset_index()\n",
        "Desktop.columns = ['page', 'Desktop_conversion']\n",
        "Desktop"
      ],
      "execution_count": 0,
      "outputs": [
        {
          "output_type": "execute_result",
          "data": {
            "text/html": [
              "<div>\n",
              "<style scoped>\n",
              "    .dataframe tbody tr th:only-of-type {\n",
              "        vertical-align: middle;\n",
              "    }\n",
              "\n",
              "    .dataframe tbody tr th {\n",
              "        vertical-align: top;\n",
              "    }\n",
              "\n",
              "    .dataframe thead th {\n",
              "        text-align: right;\n",
              "    }\n",
              "</style>\n",
              "<table border=\"1\" class=\"dataframe\">\n",
              "  <thead>\n",
              "    <tr style=\"text-align: right;\">\n",
              "      <th></th>\n",
              "      <th>page</th>\n",
              "      <th>Desktop_conversion</th>\n",
              "    </tr>\n",
              "  </thead>\n",
              "  <tbody>\n",
              "    <tr>\n",
              "      <th>0</th>\n",
              "      <td>search</td>\n",
              "      <td>0.500000</td>\n",
              "    </tr>\n",
              "    <tr>\n",
              "      <th>1</th>\n",
              "      <td>payment</td>\n",
              "      <td>0.100000</td>\n",
              "    </tr>\n",
              "    <tr>\n",
              "      <th>2</th>\n",
              "      <td>confirmation</td>\n",
              "      <td>0.049834</td>\n",
              "    </tr>\n",
              "  </tbody>\n",
              "</table>\n",
              "</div>"
            ],
            "text/plain": [
              "           page  Desktop_conversion\n",
              "0        search            0.500000\n",
              "1       payment            0.100000\n",
              "2  confirmation            0.049834"
            ]
          },
          "metadata": {
            "tags": []
          },
          "execution_count": 72
        }
      ]
    },
    {
      "cell_type": "code",
      "metadata": {
        "id": "n9pINWpnzRVh",
        "colab_type": "code",
        "outputId": "accf72b9-add0-4a78-b7ec-89cdcd6d53ed",
        "colab": {
          "base_uri": "https://localhost:8080/",
          "height": 142
        }
      },
      "source": [
        "# conversion rate from mobile\n",
        "\n",
        "mobile = pd.DataFrame.from_dict(conversion_rate(data[data.device == 'Mobile']), orient='index').reset_index()\n",
        "mobile.columns = ['page', 'mobile_conversion']\n",
        "mobile"
      ],
      "execution_count": 0,
      "outputs": [
        {
          "output_type": "execute_result",
          "data": {
            "text/html": [
              "<div>\n",
              "<style scoped>\n",
              "    .dataframe tbody tr th:only-of-type {\n",
              "        vertical-align: middle;\n",
              "    }\n",
              "\n",
              "    .dataframe tbody tr th {\n",
              "        vertical-align: top;\n",
              "    }\n",
              "\n",
              "    .dataframe thead th {\n",
              "        text-align: right;\n",
              "    }\n",
              "</style>\n",
              "<table border=\"1\" class=\"dataframe\">\n",
              "  <thead>\n",
              "    <tr style=\"text-align: right;\">\n",
              "      <th></th>\n",
              "      <th>page</th>\n",
              "      <th>mobile_conversion</th>\n",
              "    </tr>\n",
              "  </thead>\n",
              "  <tbody>\n",
              "    <tr>\n",
              "      <th>0</th>\n",
              "      <td>search</td>\n",
              "      <td>0.5</td>\n",
              "    </tr>\n",
              "    <tr>\n",
              "      <th>1</th>\n",
              "      <td>payment</td>\n",
              "      <td>0.2</td>\n",
              "    </tr>\n",
              "    <tr>\n",
              "      <th>2</th>\n",
              "      <td>confirmation</td>\n",
              "      <td>0.1</td>\n",
              "    </tr>\n",
              "  </tbody>\n",
              "</table>\n",
              "</div>"
            ],
            "text/plain": [
              "           page  mobile_conversion\n",
              "0        search                0.5\n",
              "1       payment                0.2\n",
              "2  confirmation                0.1"
            ]
          },
          "metadata": {
            "tags": []
          },
          "execution_count": 73
        }
      ]
    },
    {
      "cell_type": "code",
      "metadata": {
        "id": "ns2WZp5wzUFQ",
        "colab_type": "code",
        "colab": {}
      },
      "source": [
        "# out join two tables\n",
        "\n",
        "df=pd.merge(mobile, Desktop, how = 'outer', on = 'page' )"
      ],
      "execution_count": 0,
      "outputs": []
    },
    {
      "cell_type": "code",
      "metadata": {
        "id": "xK2Ptun7ziZ1",
        "colab_type": "code",
        "outputId": "2a8b429b-7ff1-4e56-bdf9-f91962e71424",
        "colab": {
          "base_uri": "https://localhost:8080/",
          "height": 136
        }
      },
      "source": [
        "# table reshape for visualization \n",
        "\n",
        "device = pd.melt(df, id_vars= ['page'], var_name= 'device', value_name='conversion_rate')\n",
        "\n",
        "print (device)"
      ],
      "execution_count": 0,
      "outputs": [
        {
          "output_type": "stream",
          "text": [
            "           page              device  conversion_rate\n",
            "0        search   mobile_conversion         0.500000\n",
            "1       payment   mobile_conversion         0.200000\n",
            "2  confirmation   mobile_conversion         0.100000\n",
            "3        search  Desktop_conversion         0.500000\n",
            "4       payment  Desktop_conversion         0.100000\n",
            "5  confirmation  Desktop_conversion         0.049834\n"
          ],
          "name": "stdout"
        }
      ]
    },
    {
      "cell_type": "code",
      "metadata": {
        "id": "kdXgUWrIfpzC",
        "colab_type": "code",
        "outputId": "bc071725-2cfd-4823-a978-11aceb9c88fe",
        "colab": {
          "base_uri": "https://localhost:8080/",
          "height": 334
        }
      },
      "source": [
        "# visulize the conversion rate at different devices\n",
        "\n",
        "fig, ax = plt.subplots(figsize = (8,5))\n",
        "sns.barplot(x = 'page', y = 'conversion_rate', data = device, ax = ax, hue= 'device')\n",
        "plt.show()"
      ],
      "execution_count": 0,
      "outputs": [
        {
          "output_type": "display_data",
          "data": {
            "image/png": "[encoded data removed]",
            "text/plain": [
              "<Figure size 576x360 with 1 Axes>"
            ]
          },
          "metadata": {
            "tags": []
          }
        }
      ]
    },
    {
      "cell_type": "markdown",
      "metadata": {
        "id": "HyCdmiMhgiI9",
        "colab_type": "text"
      },
      "source": [
        "### <font color = 'blue'> 2.2 The Effect of Date"
      ]
    },
    {
      "cell_type": "code",
      "metadata": {
        "id": "8DBlEcVUuSkp",
        "colab_type": "code",
        "colab": {}
      },
      "source": [
        "# change date to date format and get day of week by dt.weekday_name\n",
        "\n",
        "data['date']= pd.to_datetime(data['date'])\n",
        "\n",
        "data['day_of_week'] = data['date'].dt.weekday_name"
      ],
      "execution_count": 0,
      "outputs": []
    },
    {
      "cell_type": "code",
      "metadata": {
        "id": "6CdUbyKrumNu",
        "colab_type": "code",
        "outputId": "3329f49e-0e3d-4dd4-c71c-934166b9b45e",
        "colab": {
          "base_uri": "https://localhost:8080/",
          "height": 297
        }
      },
      "source": [
        "import numpy as np\n",
        "\n",
        "data.groupby('day_of_week')['home', 'search', 'payment', 'confirmation'].size().plot()"
      ],
      "execution_count": 0,
      "outputs": [
        {
          "output_type": "execute_result",
          "data": {
            "text/plain": [
              "<matplotlib.axes._subplots.AxesSubplot at 0x7f670b77d2e8>"
            ]
          },
          "metadata": {
            "tags": []
          },
          "execution_count": 78
        },
        {
          "output_type": "display_data",
          "data": {
            "image/png": "[encoded data removed]",
            "text/plain": [
              "<Figure size 432x288 with 1 Axes>"
            ]
          },
          "metadata": {
            "tags": []
          }
        }
      ]
    },
    {
      "cell_type": "code",
      "metadata": {
        "id": "is3e7A_p1cVX",
        "colab_type": "code",
        "colab": {}
      },
      "source": [
        "data['home']= data['home'].apply(lambda x : 0 if pd.isnull(x) else 1)\n",
        "data['search']= data['search'].apply(lambda x : 0 if pd.isnull(x) else 1)\n",
        "data['payment']= data['payment'].apply(lambda x : 0 if pd.isnull(x) else 1)\n",
        "data['confirmation']= data['confirmation'].apply(lambda x : 0 if pd.isnull(x) else 1)"
      ],
      "execution_count": 0,
      "outputs": []
    },
    {
      "cell_type": "code",
      "metadata": {
        "id": "Sd0_2-r4533Y",
        "colab_type": "code",
        "colab": {}
      },
      "source": [
        "# funnel analysis by day of week\n",
        "\n",
        "Day_week = data.groupby('day_of_week')['home', 'search','payment','confirmation' ].agg(np.sum).reset_index()\n"
      ],
      "execution_count": 0,
      "outputs": []
    },
    {
      "cell_type": "code",
      "metadata": {
        "id": "oIHp70uF6dCE",
        "colab_type": "code",
        "outputId": "f89d2427-8a77-42bf-a68b-ca04a37dea5a",
        "colab": {
          "base_uri": "https://localhost:8080/",
          "height": 204
        }
      },
      "source": [
        "Day_week.head()"
      ],
      "execution_count": 0,
      "outputs": [
        {
          "output_type": "execute_result",
          "data": {
            "text/html": [
              "<div>\n",
              "<style scoped>\n",
              "    .dataframe tbody tr th:only-of-type {\n",
              "        vertical-align: middle;\n",
              "    }\n",
              "\n",
              "    .dataframe tbody tr th {\n",
              "        vertical-align: top;\n",
              "    }\n",
              "\n",
              "    .dataframe thead th {\n",
              "        text-align: right;\n",
              "    }\n",
              "</style>\n",
              "<table border=\"1\" class=\"dataframe\">\n",
              "  <thead>\n",
              "    <tr style=\"text-align: right;\">\n",
              "      <th></th>\n",
              "      <th>day_of_week</th>\n",
              "      <th>home</th>\n",
              "      <th>search</th>\n",
              "      <th>payment</th>\n",
              "      <th>confirmation</th>\n",
              "    </tr>\n",
              "  </thead>\n",
              "  <tbody>\n",
              "    <tr>\n",
              "      <th>0</th>\n",
              "      <td>Friday</td>\n",
              "      <td>12750</td>\n",
              "      <td>6406</td>\n",
              "      <td>871</td>\n",
              "      <td>54</td>\n",
              "    </tr>\n",
              "    <tr>\n",
              "      <th>1</th>\n",
              "      <td>Monday</td>\n",
              "      <td>12955</td>\n",
              "      <td>6483</td>\n",
              "      <td>869</td>\n",
              "      <td>77</td>\n",
              "    </tr>\n",
              "    <tr>\n",
              "      <th>2</th>\n",
              "      <td>Saturday</td>\n",
              "      <td>12801</td>\n",
              "      <td>6545</td>\n",
              "      <td>845</td>\n",
              "      <td>70</td>\n",
              "    </tr>\n",
              "    <tr>\n",
              "      <th>3</th>\n",
              "      <td>Sunday</td>\n",
              "      <td>12922</td>\n",
              "      <td>6462</td>\n",
              "      <td>855</td>\n",
              "      <td>62</td>\n",
              "    </tr>\n",
              "    <tr>\n",
              "      <th>4</th>\n",
              "      <td>Thursday</td>\n",
              "      <td>13444</td>\n",
              "      <td>6717</td>\n",
              "      <td>899</td>\n",
              "      <td>66</td>\n",
              "    </tr>\n",
              "  </tbody>\n",
              "</table>\n",
              "</div>"
            ],
            "text/plain": [
              "  day_of_week   home  search  payment  confirmation\n",
              "0      Friday  12750    6406      871            54\n",
              "1      Monday  12955    6483      869            77\n",
              "2    Saturday  12801    6545      845            70\n",
              "3      Sunday  12922    6462      855            62\n",
              "4    Thursday  13444    6717      899            66"
            ]
          },
          "metadata": {
            "tags": []
          },
          "execution_count": 98
        }
      ]
    },
    {
      "cell_type": "code",
      "metadata": {
        "id": "9v2NOlCLK6PA",
        "colab_type": "code",
        "outputId": "a4e57761-2a73-49b9-c4a5-f69c03b7794a",
        "colab": {
          "base_uri": "https://localhost:8080/",
          "height": 310
        }
      },
      "source": [
        "# comparing home and confirmation by day_of_week using dual axis\n",
        "\n",
        "ax = Day_week.plot(x= 'day_of_week', y = 'home', legend = False)\n",
        "ax2 = ax.twinx()\n",
        "Day_week.plot(x = 'day_of_week', y = 'confirmation', legend = False, ax = ax2, color = 'r' )\n",
        "ax.figure.legend()\n",
        "\n",
        "\n",
        "weekday_names = ['Monday', 'Tuesday','Wednesday','Thursday','Friday', 'Saturday', 'Sunday']\n",
        "ax.set_xticklabels(weekday_names)\n",
        "\n",
        "plt.show()"
      ],
      "execution_count": 0,
      "outputs": [
        {
          "output_type": "display_data",
          "data": {
            "image/png": "[encoded data removed]",
            "text/plain": [
              "<Figure size 432x288 with 2 Axes>"
            ]
          },
          "metadata": {
            "tags": []
          }
        }
      ]
    },
    {
      "cell_type": "code",
      "metadata": {
        "id": "qtOW1XFH51S1",
        "colab_type": "code",
        "colab": {}
      },
      "source": [
        "import matplotlib\n",
        "import matplotlib.pyplot as plt\n",
        "import matplotlib.gridspec as gridspec"
      ],
      "execution_count": 0,
      "outputs": []
    },
    {
      "cell_type": "code",
      "metadata": {
        "id": "Wpti0m2Y-Tkp",
        "colab_type": "code",
        "colab": {}
      },
      "source": [
        "week_sex = data.groupby(['day_of_week', 'sex'  ])['home', 'search','payment','confirmation' ].agg(np.sum).reset_index()\n",
        "\n",
        "week_sex['confirmation/home'] = round(100 * week_sex['confirmation']/week_sex['home'],2)"
      ],
      "execution_count": 0,
      "outputs": []
    },
    {
      "cell_type": "code",
      "metadata": {
        "id": "DmIAGuWHML1q",
        "colab_type": "code",
        "outputId": "b8889110-fe3c-4380-d99d-76dc64fc7245",
        "colab": {
          "base_uri": "https://localhost:8080/",
          "height": 354
        }
      },
      "source": [
        "\n",
        "fig2 = plt.figure(constrained_layout = False, figsize= (15,5))\n",
        "spec2 = gridspec.GridSpec(ncols=3, nrows = 1, figure = fig2)\n",
        "f2_ax1 = fig2.add_subplot(spec2[0, 0])\n",
        "f2_ax2 = fig2.add_subplot(spec2[0, 1])\n",
        "f2_ax3 = fig2.add_subplot(spec2[0, 2])\n",
        "sns.barplot(data=week_sex, x = 'day_of_week', y = 'confirmation', hue = 'sex', ax= f2_ax2)\n",
        "sns.barplot(data=week_sex, x = 'day_of_week', y = 'home', hue = 'sex', ax = f2_ax1)\n",
        "sns.barplot(data=week_sex, x = 'day_of_week', y = 'confirmation/home', hue = 'sex', ax = f2_ax3)"
      ],
      "execution_count": 0,
      "outputs": [
        {
          "output_type": "execute_result",
          "data": {
            "text/plain": [
              "<matplotlib.axes._subplots.AxesSubplot at 0x7f670b622ac8>"
            ]
          },
          "metadata": {
            "tags": []
          },
          "execution_count": 90
        },
        {
          "output_type": "display_data",
          "data": {
            "image/png": "[encoded data removed]",
            "text/plain": [
              "<Figure size 1080x360 with 3 Axes>"
            ]
          },
          "metadata": {
            "tags": []
          }
        }
      ]
    },
    {
      "cell_type": "code",
      "metadata": {
        "id": "pxLRsE2dMi0G",
        "colab_type": "code",
        "colab": {}
      },
      "source": [
        "week_device = data.groupby(['day_of_week', 'device'  ])['home', 'search','payment','confirmation' ].agg(np.sum).reset_index()\n",
        "week_device['confirmation/home'] = round(100* week_device['confirmation']/week_device['home'],2) "
      ],
      "execution_count": 0,
      "outputs": []
    },
    {
      "cell_type": "code",
      "metadata": {
        "id": "eGbzGf4c6lce",
        "colab_type": "code",
        "outputId": "cb7473cd-d6e0-424f-f8c5-8abf5bc36026",
        "colab": {
          "base_uri": "https://localhost:8080/",
          "height": 405
        }
      },
      "source": [
        "import matplotlib\n",
        "import matplotlib.pyplot as plt\n",
        "import matplotlib.gridspec as gridspec\n",
        "\n",
        "fig3 = plt.figure(constrained_layout = False, figsize= (18,6))\n",
        "spec3 = gridspec.GridSpec(ncols=3, nrows = 1, figure = fig3)\n",
        "f3_ax1 = fig3.add_subplot(spec3[0, 0])\n",
        "f3_ax2 = fig3.add_subplot(spec3[0, 1])\n",
        "f3_ax3 = fig3.add_subplot(spec3[0, 2])\n",
        "\n",
        "sns.barplot(data=week_device, x = 'day_of_week', y = 'confirmation', hue = 'device', ax= f3_ax2)\n",
        "sns.barplot(data=week_device, x = 'day_of_week', y = 'home', hue = 'device', ax = f3_ax1)\n",
        "sns.barplot(data=week_device, x = 'day_of_week', y = 'confirmation/home', hue = 'device', ax = f3_ax3)\n",
        "f3_ax1.set_title(\"Amount of Visiting HomePage by device\")\n",
        "f3_ax2.set_title(\"Amount of confirmation by device\")\n",
        "f3_ax3.set_title(\"confirmation/home ratio by device\")\n",
        "\n",
        "weekday_names = ['Monday', 'Tuesday','Wednesday','Thursday','Friday', 'Saturday', 'Sunday']\n",
        "\n",
        "f3_ax1.set_xticklabels(weekday_names)\n",
        "f3_ax1.set_xticks(range(0, len(weekday_names)))\n",
        "plt.show()"
      ],
      "execution_count": 0,
      "outputs": [
        {
          "output_type": "display_data",
          "data": {
            "image/png": "[encoded data removed]",
            "text/plain": [
              "<Figure size 1296x432 with 3 Axes>"
            ]
          },
          "metadata": {
            "tags": []
          }
        }
      ]
    },
    {
      "cell_type": "markdown",
      "metadata": {
        "id": "dsLu3z59ED-K",
        "colab_type": "text"
      },
      "source": [
        "### <font color = 'blue'> 2.3 contribution of Sex/Device combination"
      ]
    },
    {
      "cell_type": "code",
      "metadata": {
        "id": "TRQ5czxAvgwC",
        "colab_type": "code",
        "outputId": "b911aa1f-d256-4734-c472-cd6318cdb4bd",
        "colab": {
          "base_uri": "https://localhost:8080/",
          "height": 173
        }
      },
      "source": [
        "# contribution of sex/device combination\n",
        "\n",
        "device_sex = data.groupby(['device', 'sex'])['confirmation'].agg(np.sum).reset_index()\n",
        "device_sex['contribution'] = round(device_sex['confirmation']*100/device_sex['confirmation'].sum(),2 )\n",
        "\n",
        "device_sex"
      ],
      "execution_count": 0,
      "outputs": [
        {
          "output_type": "execute_result",
          "data": {
            "text/html": [
              "<div>\n",
              "<style scoped>\n",
              "    .dataframe tbody tr th:only-of-type {\n",
              "        vertical-align: middle;\n",
              "    }\n",
              "\n",
              "    .dataframe tbody tr th {\n",
              "        vertical-align: top;\n",
              "    }\n",
              "\n",
              "    .dataframe thead th {\n",
              "        text-align: right;\n",
              "    }\n",
              "</style>\n",
              "<table border=\"1\" class=\"dataframe\">\n",
              "  <thead>\n",
              "    <tr style=\"text-align: right;\">\n",
              "      <th></th>\n",
              "      <th>device</th>\n",
              "      <th>sex</th>\n",
              "      <th>confirmation</th>\n",
              "      <th>contribution</th>\n",
              "    </tr>\n",
              "  </thead>\n",
              "  <tbody>\n",
              "    <tr>\n",
              "      <th>0</th>\n",
              "      <td>Desktop</td>\n",
              "      <td>Female</td>\n",
              "      <td>74</td>\n",
              "      <td>16.37</td>\n",
              "    </tr>\n",
              "    <tr>\n",
              "      <th>1</th>\n",
              "      <td>Desktop</td>\n",
              "      <td>Male</td>\n",
              "      <td>76</td>\n",
              "      <td>16.81</td>\n",
              "    </tr>\n",
              "    <tr>\n",
              "      <th>2</th>\n",
              "      <td>Mobile</td>\n",
              "      <td>Female</td>\n",
              "      <td>167</td>\n",
              "      <td>36.95</td>\n",
              "    </tr>\n",
              "    <tr>\n",
              "      <th>3</th>\n",
              "      <td>Mobile</td>\n",
              "      <td>Male</td>\n",
              "      <td>135</td>\n",
              "      <td>29.87</td>\n",
              "    </tr>\n",
              "  </tbody>\n",
              "</table>\n",
              "</div>"
            ],
            "text/plain": [
              "    device     sex  confirmation  contribution\n",
              "0  Desktop  Female            74         16.37\n",
              "1  Desktop    Male            76         16.81\n",
              "2   Mobile  Female           167         36.95\n",
              "3   Mobile    Male           135         29.87"
            ]
          },
          "metadata": {
            "tags": []
          },
          "execution_count": 104
        }
      ]
    }
  ]
}